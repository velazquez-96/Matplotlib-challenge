{
 "cells": [
  {
   "cell_type": "markdown",
   "metadata": {},
   "source": [
    "# Summary of study results"
   ]
  },
  {
   "cell_type": "markdown",
   "metadata": {},
   "source": [
    "### Background"
   ]
  },
  {
   "cell_type": "markdown",
   "metadata": {},
   "source": [
    "Pymaceuticals Inc. executed an animal study with 250 mice that had the squamous cell carcinoma (SSC). They were treated with different types of drug regimens in a period of 45 days to observe and measure tumor growth. The performance of the company's drug of interest, Capomulin, was compared with the other treatment regimens. The analysis of the results is presented below with some of the most important observations of the study. "
   ]
  },
  {
   "cell_type": "markdown",
   "metadata": {},
   "source": [
    "### Observations and Insights"
   ]
  },
  {
   "cell_type": "markdown",
   "metadata": {},
   "source": [
    "* At first, the summary table suggests that Ramicane and Capomulin regimens are the most effective. Compared with the other 8 regimens, the data of these are less scattered around the mean, less spread, and the samples are more representative of the total population. The last could be due to the samples are bigger than the others.\n",
    "* The bar plot shows that within the study, there were more data points for Capomulin and Ramicane treatments. Also, it should be noted that none of the 10 regimens had data points below 150, which could benefit the study to obtain more precise results.  \n",
    "* The pie plot shows that within the study, the sex distribution of the 250 mice has similar values with 50.6% for males and 49.4% for females. However, the study did not concentrate on the sex of the mice to prove the competence of the drug regimens.\n",
    "* Focusing on the box plot, it can be seen that there are no outliers for the regimens of interest. Besides, the effectiveness of Capomulin and Ramicane treatments appears to be similar. Finally, the tumor volume of the first two is lower than Infubinol and Ceftamin regimens.\n",
    "* The line plot indicates that Capomulin drug regimen treatment certainly decreases tumor volume of mice during the period of 45 days. Further studies need to be done with a longer period to determine how far it decreases, or even if the tumor is removed.\n",
    "* Finally, the figure shows that the weight and average tumor volume have a positive and strong correlation. This is known because the Pearson correlation coefficient value is greater than 0.7. Also, looking at the r-squared value, it can be said that the linear regression model seems to well predict the tumor volume values. That is, approximately 70% of the tumor volume data(y values) apparently can be predicted by the weight values(x values). This suggests that weight must be taken into account when mice are undergoing a Capomulin treatment. "
   ]
  },
  {
   "cell_type": "markdown",
   "metadata": {},
   "source": [
    "## Dependencies "
   ]
  },
  {
   "cell_type": "code",
   "execution_count": 12,
   "metadata": {},
   "outputs": [],
   "source": [
    "# Dependencies and Setup\n",
    "import matplotlib.pyplot as plt\n",
    "import pandas as pd\n",
    "import scipy.stats as st\n",
    "import numpy as np\n",
    "\n",
    "# Study data files\n",
    "mouse_metadata = \"../Resources/Mouse_metadata.csv\"\n",
    "study_results = \"../Resources/Study_results.csv\"\n",
    "\n",
    "# Read the mouse data and the study results\n",
    "mouse_metadata = pd.read_csv(mouse_metadata)\n",
    "study_results = pd.read_csv(study_results)\n",
    "\n",
    "# Combine the data into a single dataset\n",
    "combined_df = pd.merge(mouse_metadata, study_results, on=\"Mouse ID\")"
   ]
  },
  {
   "cell_type": "code",
   "execution_count": 13,
   "metadata": {},
   "outputs": [
    {
     "data": {
      "text/html": [
       "<div>\n",
       "<style scoped>\n",
       "    .dataframe tbody tr th:only-of-type {\n",
       "        vertical-align: middle;\n",
       "    }\n",
       "\n",
       "    .dataframe tbody tr th {\n",
       "        vertical-align: top;\n",
       "    }\n",
       "\n",
       "    .dataframe thead th {\n",
       "        text-align: right;\n",
       "    }\n",
       "</style>\n",
       "<table border=\"1\" class=\"dataframe\">\n",
       "  <thead>\n",
       "    <tr style=\"text-align: right;\">\n",
       "      <th></th>\n",
       "      <th>Mouse ID</th>\n",
       "      <th>Drug Regimen</th>\n",
       "      <th>Sex</th>\n",
       "      <th>Age_months</th>\n",
       "      <th>Weight (g)</th>\n",
       "      <th>Timepoint</th>\n",
       "      <th>Tumor Volume (mm3)</th>\n",
       "      <th>Metastatic Sites</th>\n",
       "    </tr>\n",
       "  </thead>\n",
       "  <tbody>\n",
       "    <tr>\n",
       "      <th>0</th>\n",
       "      <td>k403</td>\n",
       "      <td>Ramicane</td>\n",
       "      <td>Male</td>\n",
       "      <td>21</td>\n",
       "      <td>16</td>\n",
       "      <td>0</td>\n",
       "      <td>45.000000</td>\n",
       "      <td>0</td>\n",
       "    </tr>\n",
       "    <tr>\n",
       "      <th>1</th>\n",
       "      <td>k403</td>\n",
       "      <td>Ramicane</td>\n",
       "      <td>Male</td>\n",
       "      <td>21</td>\n",
       "      <td>16</td>\n",
       "      <td>5</td>\n",
       "      <td>38.825898</td>\n",
       "      <td>0</td>\n",
       "    </tr>\n",
       "    <tr>\n",
       "      <th>2</th>\n",
       "      <td>k403</td>\n",
       "      <td>Ramicane</td>\n",
       "      <td>Male</td>\n",
       "      <td>21</td>\n",
       "      <td>16</td>\n",
       "      <td>10</td>\n",
       "      <td>35.014271</td>\n",
       "      <td>1</td>\n",
       "    </tr>\n",
       "    <tr>\n",
       "      <th>3</th>\n",
       "      <td>k403</td>\n",
       "      <td>Ramicane</td>\n",
       "      <td>Male</td>\n",
       "      <td>21</td>\n",
       "      <td>16</td>\n",
       "      <td>15</td>\n",
       "      <td>34.223992</td>\n",
       "      <td>1</td>\n",
       "    </tr>\n",
       "    <tr>\n",
       "      <th>4</th>\n",
       "      <td>k403</td>\n",
       "      <td>Ramicane</td>\n",
       "      <td>Male</td>\n",
       "      <td>21</td>\n",
       "      <td>16</td>\n",
       "      <td>20</td>\n",
       "      <td>32.997729</td>\n",
       "      <td>1</td>\n",
       "    </tr>\n",
       "  </tbody>\n",
       "</table>\n",
       "</div>"
      ],
      "text/plain": [
       "  Mouse ID Drug Regimen   Sex  Age_months  Weight (g)  Timepoint  \\\n",
       "0     k403     Ramicane  Male          21          16          0   \n",
       "1     k403     Ramicane  Male          21          16          5   \n",
       "2     k403     Ramicane  Male          21          16         10   \n",
       "3     k403     Ramicane  Male          21          16         15   \n",
       "4     k403     Ramicane  Male          21          16         20   \n",
       "\n",
       "   Tumor Volume (mm3)  Metastatic Sites  \n",
       "0           45.000000                 0  \n",
       "1           38.825898                 0  \n",
       "2           35.014271                 1  \n",
       "3           34.223992                 1  \n",
       "4           32.997729                 1  "
      ]
     },
     "execution_count": 13,
     "metadata": {},
     "output_type": "execute_result"
    }
   ],
   "source": [
    "combined_df.head()"
   ]
  },
  {
   "cell_type": "code",
   "execution_count": 14,
   "metadata": {
    "scrolled": true
   },
   "outputs": [
    {
     "name": "stdout",
     "output_type": "stream",
     "text": [
      "<class 'pandas.core.frame.DataFrame'>\n",
      "Int64Index: 1893 entries, 0 to 1892\n",
      "Data columns (total 8 columns):\n",
      " #   Column              Non-Null Count  Dtype  \n",
      "---  ------              --------------  -----  \n",
      " 0   Mouse ID            1893 non-null   object \n",
      " 1   Drug Regimen        1893 non-null   object \n",
      " 2   Sex                 1893 non-null   object \n",
      " 3   Age_months          1893 non-null   int64  \n",
      " 4   Weight (g)          1893 non-null   int64  \n",
      " 5   Timepoint           1893 non-null   int64  \n",
      " 6   Tumor Volume (mm3)  1893 non-null   float64\n",
      " 7   Metastatic Sites    1893 non-null   int64  \n",
      "dtypes: float64(1), int64(4), object(3)\n",
      "memory usage: 133.1+ KB\n"
     ]
    }
   ],
   "source": [
    "combined_df.info()"
   ]
  },
  {
   "cell_type": "markdown",
   "metadata": {},
   "source": [
    "## Summary statistics"
   ]
  },
  {
   "cell_type": "code",
   "execution_count": 15,
   "metadata": {},
   "outputs": [],
   "source": [
    "# Generate a summary statistics table of mean, median, variance, standard deviation, \n",
    "#and SEM of the tumor volume for each regimen"
   ]
  },
  {
   "cell_type": "code",
   "execution_count": 16,
   "metadata": {},
   "outputs": [],
   "source": [
    "regimen_df = combined_df.groupby(\"Drug Regimen\").agg({\"Tumor Volume (mm3)\":[\"mean\", \"median\", \"var\", \"std\", \"sem\"]})\n",
    "regimen_df.columns = regimen_df.columns.droplevel(0)"
   ]
  },
  {
   "cell_type": "code",
   "execution_count": 17,
   "metadata": {},
   "outputs": [],
   "source": [
    "# Rename columns\n",
    "regimen_df = regimen_df.rename(columns={\"mean\":\"Mean\", \n",
    "                            \"median\":\"Median\",\n",
    "                           \"var\": \"Variance\",\n",
    "                            \"std\":\"Standard Deviation\",\n",
    "                            \"sem\": \"SEM\"})"
   ]
  },
  {
   "cell_type": "code",
   "execution_count": 18,
   "metadata": {},
   "outputs": [
    {
     "data": {
      "text/html": [
       "<style  type=\"text/css\" >\n",
       "    #T_8cb333aa_8b33_11ea_9219_24a2e1f2a590row0_col0 {\n",
       "            : ;\n",
       "            text-align:  left;\n",
       "        }    #T_8cb333aa_8b33_11ea_9219_24a2e1f2a590row0_col1 {\n",
       "            : ;\n",
       "            text-align:  left;\n",
       "        }    #T_8cb333aa_8b33_11ea_9219_24a2e1f2a590row0_col2 {\n",
       "            : ;\n",
       "            text-align:  left;\n",
       "        }    #T_8cb333aa_8b33_11ea_9219_24a2e1f2a590row0_col3 {\n",
       "            : ;\n",
       "            text-align:  left;\n",
       "        }    #T_8cb333aa_8b33_11ea_9219_24a2e1f2a590row0_col4 {\n",
       "            : ;\n",
       "            text-align:  left;\n",
       "        }    #T_8cb333aa_8b33_11ea_9219_24a2e1f2a590row1_col0 {\n",
       "            : ;\n",
       "            text-align:  left;\n",
       "        }    #T_8cb333aa_8b33_11ea_9219_24a2e1f2a590row1_col1 {\n",
       "            : ;\n",
       "            text-align:  left;\n",
       "        }    #T_8cb333aa_8b33_11ea_9219_24a2e1f2a590row1_col2 {\n",
       "            : ;\n",
       "            text-align:  left;\n",
       "        }    #T_8cb333aa_8b33_11ea_9219_24a2e1f2a590row1_col3 {\n",
       "            : ;\n",
       "            text-align:  left;\n",
       "        }    #T_8cb333aa_8b33_11ea_9219_24a2e1f2a590row1_col4 {\n",
       "            : ;\n",
       "            text-align:  left;\n",
       "        }    #T_8cb333aa_8b33_11ea_9219_24a2e1f2a590row2_col0 {\n",
       "            : ;\n",
       "            text-align:  left;\n",
       "        }    #T_8cb333aa_8b33_11ea_9219_24a2e1f2a590row2_col1 {\n",
       "            : ;\n",
       "            text-align:  left;\n",
       "        }    #T_8cb333aa_8b33_11ea_9219_24a2e1f2a590row2_col2 {\n",
       "            : ;\n",
       "            text-align:  left;\n",
       "        }    #T_8cb333aa_8b33_11ea_9219_24a2e1f2a590row2_col3 {\n",
       "            : ;\n",
       "            text-align:  left;\n",
       "        }    #T_8cb333aa_8b33_11ea_9219_24a2e1f2a590row2_col4 {\n",
       "            : ;\n",
       "            text-align:  left;\n",
       "        }    #T_8cb333aa_8b33_11ea_9219_24a2e1f2a590row3_col0 {\n",
       "            : ;\n",
       "            text-align:  left;\n",
       "        }    #T_8cb333aa_8b33_11ea_9219_24a2e1f2a590row3_col1 {\n",
       "            : ;\n",
       "            text-align:  left;\n",
       "        }    #T_8cb333aa_8b33_11ea_9219_24a2e1f2a590row3_col2 {\n",
       "            : ;\n",
       "            text-align:  left;\n",
       "        }    #T_8cb333aa_8b33_11ea_9219_24a2e1f2a590row3_col3 {\n",
       "            : ;\n",
       "            text-align:  left;\n",
       "        }    #T_8cb333aa_8b33_11ea_9219_24a2e1f2a590row3_col4 {\n",
       "            : ;\n",
       "            text-align:  left;\n",
       "        }    #T_8cb333aa_8b33_11ea_9219_24a2e1f2a590row4_col0 {\n",
       "            : ;\n",
       "            text-align:  left;\n",
       "        }    #T_8cb333aa_8b33_11ea_9219_24a2e1f2a590row4_col1 {\n",
       "            : ;\n",
       "            text-align:  left;\n",
       "        }    #T_8cb333aa_8b33_11ea_9219_24a2e1f2a590row4_col2 {\n",
       "            : ;\n",
       "            text-align:  left;\n",
       "        }    #T_8cb333aa_8b33_11ea_9219_24a2e1f2a590row4_col3 {\n",
       "            : ;\n",
       "            text-align:  left;\n",
       "        }    #T_8cb333aa_8b33_11ea_9219_24a2e1f2a590row4_col4 {\n",
       "            : ;\n",
       "            text-align:  left;\n",
       "        }    #T_8cb333aa_8b33_11ea_9219_24a2e1f2a590row5_col0 {\n",
       "            : ;\n",
       "            text-align:  left;\n",
       "        }    #T_8cb333aa_8b33_11ea_9219_24a2e1f2a590row5_col1 {\n",
       "            : ;\n",
       "            text-align:  left;\n",
       "        }    #T_8cb333aa_8b33_11ea_9219_24a2e1f2a590row5_col2 {\n",
       "            : ;\n",
       "            text-align:  left;\n",
       "        }    #T_8cb333aa_8b33_11ea_9219_24a2e1f2a590row5_col3 {\n",
       "            : ;\n",
       "            text-align:  left;\n",
       "        }    #T_8cb333aa_8b33_11ea_9219_24a2e1f2a590row5_col4 {\n",
       "            : ;\n",
       "            text-align:  left;\n",
       "        }    #T_8cb333aa_8b33_11ea_9219_24a2e1f2a590row6_col0 {\n",
       "            : ;\n",
       "            text-align:  left;\n",
       "        }    #T_8cb333aa_8b33_11ea_9219_24a2e1f2a590row6_col1 {\n",
       "            : ;\n",
       "            text-align:  left;\n",
       "        }    #T_8cb333aa_8b33_11ea_9219_24a2e1f2a590row6_col2 {\n",
       "            : ;\n",
       "            text-align:  left;\n",
       "        }    #T_8cb333aa_8b33_11ea_9219_24a2e1f2a590row6_col3 {\n",
       "            : ;\n",
       "            text-align:  left;\n",
       "        }    #T_8cb333aa_8b33_11ea_9219_24a2e1f2a590row6_col4 {\n",
       "            : ;\n",
       "            text-align:  left;\n",
       "        }    #T_8cb333aa_8b33_11ea_9219_24a2e1f2a590row7_col0 {\n",
       "            background-color:  lightgreen;\n",
       "            text-align:  left;\n",
       "        }    #T_8cb333aa_8b33_11ea_9219_24a2e1f2a590row7_col1 {\n",
       "            background-color:  lightgreen;\n",
       "            text-align:  left;\n",
       "        }    #T_8cb333aa_8b33_11ea_9219_24a2e1f2a590row7_col2 {\n",
       "            background-color:  lightgreen;\n",
       "            text-align:  left;\n",
       "        }    #T_8cb333aa_8b33_11ea_9219_24a2e1f2a590row7_col3 {\n",
       "            background-color:  lightgreen;\n",
       "            text-align:  left;\n",
       "        }    #T_8cb333aa_8b33_11ea_9219_24a2e1f2a590row7_col4 {\n",
       "            background-color:  lightgreen;\n",
       "            text-align:  left;\n",
       "        }    #T_8cb333aa_8b33_11ea_9219_24a2e1f2a590row8_col0 {\n",
       "            : ;\n",
       "            text-align:  left;\n",
       "        }    #T_8cb333aa_8b33_11ea_9219_24a2e1f2a590row8_col1 {\n",
       "            : ;\n",
       "            text-align:  left;\n",
       "        }    #T_8cb333aa_8b33_11ea_9219_24a2e1f2a590row8_col2 {\n",
       "            : ;\n",
       "            text-align:  left;\n",
       "        }    #T_8cb333aa_8b33_11ea_9219_24a2e1f2a590row8_col3 {\n",
       "            : ;\n",
       "            text-align:  left;\n",
       "        }    #T_8cb333aa_8b33_11ea_9219_24a2e1f2a590row8_col4 {\n",
       "            : ;\n",
       "            text-align:  left;\n",
       "        }    #T_8cb333aa_8b33_11ea_9219_24a2e1f2a590row9_col0 {\n",
       "            : ;\n",
       "            text-align:  left;\n",
       "        }    #T_8cb333aa_8b33_11ea_9219_24a2e1f2a590row9_col1 {\n",
       "            : ;\n",
       "            text-align:  left;\n",
       "        }    #T_8cb333aa_8b33_11ea_9219_24a2e1f2a590row9_col2 {\n",
       "            : ;\n",
       "            text-align:  left;\n",
       "        }    #T_8cb333aa_8b33_11ea_9219_24a2e1f2a590row9_col3 {\n",
       "            : ;\n",
       "            text-align:  left;\n",
       "        }    #T_8cb333aa_8b33_11ea_9219_24a2e1f2a590row9_col4 {\n",
       "            : ;\n",
       "            text-align:  left;\n",
       "        }</style><table id=\"T_8cb333aa_8b33_11ea_9219_24a2e1f2a590\" ><thead>    <tr>        <th class=\"blank level0\" ></th>        <th class=\"col_heading level0 col0\" >Mean</th>        <th class=\"col_heading level0 col1\" >Median</th>        <th class=\"col_heading level0 col2\" >Variance</th>        <th class=\"col_heading level0 col3\" >Standard Deviation</th>        <th class=\"col_heading level0 col4\" >SEM</th>    </tr>    <tr>        <th class=\"index_name level0\" >Drug Regimen</th>        <th class=\"blank\" ></th>        <th class=\"blank\" ></th>        <th class=\"blank\" ></th>        <th class=\"blank\" ></th>        <th class=\"blank\" ></th>    </tr></thead><tbody>\n",
       "                <tr>\n",
       "                        <th id=\"T_8cb333aa_8b33_11ea_9219_24a2e1f2a590level0_row0\" class=\"row_heading level0 row0\" >Capomulin</th>\n",
       "                        <td id=\"T_8cb333aa_8b33_11ea_9219_24a2e1f2a590row0_col0\" class=\"data row0 col0\" >40.68</td>\n",
       "                        <td id=\"T_8cb333aa_8b33_11ea_9219_24a2e1f2a590row0_col1\" class=\"data row0 col1\" >41.56</td>\n",
       "                        <td id=\"T_8cb333aa_8b33_11ea_9219_24a2e1f2a590row0_col2\" class=\"data row0 col2\" >24.95</td>\n",
       "                        <td id=\"T_8cb333aa_8b33_11ea_9219_24a2e1f2a590row0_col3\" class=\"data row0 col3\" >4.99</td>\n",
       "                        <td id=\"T_8cb333aa_8b33_11ea_9219_24a2e1f2a590row0_col4\" class=\"data row0 col4\" >0.33</td>\n",
       "            </tr>\n",
       "            <tr>\n",
       "                        <th id=\"T_8cb333aa_8b33_11ea_9219_24a2e1f2a590level0_row1\" class=\"row_heading level0 row1\" >Ceftamin</th>\n",
       "                        <td id=\"T_8cb333aa_8b33_11ea_9219_24a2e1f2a590row1_col0\" class=\"data row1 col0\" >52.59</td>\n",
       "                        <td id=\"T_8cb333aa_8b33_11ea_9219_24a2e1f2a590row1_col1\" class=\"data row1 col1\" >51.78</td>\n",
       "                        <td id=\"T_8cb333aa_8b33_11ea_9219_24a2e1f2a590row1_col2\" class=\"data row1 col2\" >39.29</td>\n",
       "                        <td id=\"T_8cb333aa_8b33_11ea_9219_24a2e1f2a590row1_col3\" class=\"data row1 col3\" >6.27</td>\n",
       "                        <td id=\"T_8cb333aa_8b33_11ea_9219_24a2e1f2a590row1_col4\" class=\"data row1 col4\" >0.47</td>\n",
       "            </tr>\n",
       "            <tr>\n",
       "                        <th id=\"T_8cb333aa_8b33_11ea_9219_24a2e1f2a590level0_row2\" class=\"row_heading level0 row2\" >Infubinol</th>\n",
       "                        <td id=\"T_8cb333aa_8b33_11ea_9219_24a2e1f2a590row2_col0\" class=\"data row2 col0\" >52.88</td>\n",
       "                        <td id=\"T_8cb333aa_8b33_11ea_9219_24a2e1f2a590row2_col1\" class=\"data row2 col1\" >51.82</td>\n",
       "                        <td id=\"T_8cb333aa_8b33_11ea_9219_24a2e1f2a590row2_col2\" class=\"data row2 col2\" >43.13</td>\n",
       "                        <td id=\"T_8cb333aa_8b33_11ea_9219_24a2e1f2a590row2_col3\" class=\"data row2 col3\" >6.57</td>\n",
       "                        <td id=\"T_8cb333aa_8b33_11ea_9219_24a2e1f2a590row2_col4\" class=\"data row2 col4\" >0.49</td>\n",
       "            </tr>\n",
       "            <tr>\n",
       "                        <th id=\"T_8cb333aa_8b33_11ea_9219_24a2e1f2a590level0_row3\" class=\"row_heading level0 row3\" >Ketapril</th>\n",
       "                        <td id=\"T_8cb333aa_8b33_11ea_9219_24a2e1f2a590row3_col0\" class=\"data row3 col0\" >55.24</td>\n",
       "                        <td id=\"T_8cb333aa_8b33_11ea_9219_24a2e1f2a590row3_col1\" class=\"data row3 col1\" >53.70</td>\n",
       "                        <td id=\"T_8cb333aa_8b33_11ea_9219_24a2e1f2a590row3_col2\" class=\"data row3 col2\" >68.55</td>\n",
       "                        <td id=\"T_8cb333aa_8b33_11ea_9219_24a2e1f2a590row3_col3\" class=\"data row3 col3\" >8.28</td>\n",
       "                        <td id=\"T_8cb333aa_8b33_11ea_9219_24a2e1f2a590row3_col4\" class=\"data row3 col4\" >0.60</td>\n",
       "            </tr>\n",
       "            <tr>\n",
       "                        <th id=\"T_8cb333aa_8b33_11ea_9219_24a2e1f2a590level0_row4\" class=\"row_heading level0 row4\" >Naftisol</th>\n",
       "                        <td id=\"T_8cb333aa_8b33_11ea_9219_24a2e1f2a590row4_col0\" class=\"data row4 col0\" >54.33</td>\n",
       "                        <td id=\"T_8cb333aa_8b33_11ea_9219_24a2e1f2a590row4_col1\" class=\"data row4 col1\" >52.51</td>\n",
       "                        <td id=\"T_8cb333aa_8b33_11ea_9219_24a2e1f2a590row4_col2\" class=\"data row4 col2\" >66.17</td>\n",
       "                        <td id=\"T_8cb333aa_8b33_11ea_9219_24a2e1f2a590row4_col3\" class=\"data row4 col3\" >8.13</td>\n",
       "                        <td id=\"T_8cb333aa_8b33_11ea_9219_24a2e1f2a590row4_col4\" class=\"data row4 col4\" >0.60</td>\n",
       "            </tr>\n",
       "            <tr>\n",
       "                        <th id=\"T_8cb333aa_8b33_11ea_9219_24a2e1f2a590level0_row5\" class=\"row_heading level0 row5\" >Placebo</th>\n",
       "                        <td id=\"T_8cb333aa_8b33_11ea_9219_24a2e1f2a590row5_col0\" class=\"data row5 col0\" >54.03</td>\n",
       "                        <td id=\"T_8cb333aa_8b33_11ea_9219_24a2e1f2a590row5_col1\" class=\"data row5 col1\" >52.29</td>\n",
       "                        <td id=\"T_8cb333aa_8b33_11ea_9219_24a2e1f2a590row5_col2\" class=\"data row5 col2\" >61.17</td>\n",
       "                        <td id=\"T_8cb333aa_8b33_11ea_9219_24a2e1f2a590row5_col3\" class=\"data row5 col3\" >7.82</td>\n",
       "                        <td id=\"T_8cb333aa_8b33_11ea_9219_24a2e1f2a590row5_col4\" class=\"data row5 col4\" >0.58</td>\n",
       "            </tr>\n",
       "            <tr>\n",
       "                        <th id=\"T_8cb333aa_8b33_11ea_9219_24a2e1f2a590level0_row6\" class=\"row_heading level0 row6\" >Propriva</th>\n",
       "                        <td id=\"T_8cb333aa_8b33_11ea_9219_24a2e1f2a590row6_col0\" class=\"data row6 col0\" >52.32</td>\n",
       "                        <td id=\"T_8cb333aa_8b33_11ea_9219_24a2e1f2a590row6_col1\" class=\"data row6 col1\" >50.85</td>\n",
       "                        <td id=\"T_8cb333aa_8b33_11ea_9219_24a2e1f2a590row6_col2\" class=\"data row6 col2\" >42.35</td>\n",
       "                        <td id=\"T_8cb333aa_8b33_11ea_9219_24a2e1f2a590row6_col3\" class=\"data row6 col3\" >6.51</td>\n",
       "                        <td id=\"T_8cb333aa_8b33_11ea_9219_24a2e1f2a590row6_col4\" class=\"data row6 col4\" >0.51</td>\n",
       "            </tr>\n",
       "            <tr>\n",
       "                        <th id=\"T_8cb333aa_8b33_11ea_9219_24a2e1f2a590level0_row7\" class=\"row_heading level0 row7\" >Ramicane</th>\n",
       "                        <td id=\"T_8cb333aa_8b33_11ea_9219_24a2e1f2a590row7_col0\" class=\"data row7 col0\" >40.22</td>\n",
       "                        <td id=\"T_8cb333aa_8b33_11ea_9219_24a2e1f2a590row7_col1\" class=\"data row7 col1\" >40.67</td>\n",
       "                        <td id=\"T_8cb333aa_8b33_11ea_9219_24a2e1f2a590row7_col2\" class=\"data row7 col2\" >23.49</td>\n",
       "                        <td id=\"T_8cb333aa_8b33_11ea_9219_24a2e1f2a590row7_col3\" class=\"data row7 col3\" >4.85</td>\n",
       "                        <td id=\"T_8cb333aa_8b33_11ea_9219_24a2e1f2a590row7_col4\" class=\"data row7 col4\" >0.32</td>\n",
       "            </tr>\n",
       "            <tr>\n",
       "                        <th id=\"T_8cb333aa_8b33_11ea_9219_24a2e1f2a590level0_row8\" class=\"row_heading level0 row8\" >Stelasyn</th>\n",
       "                        <td id=\"T_8cb333aa_8b33_11ea_9219_24a2e1f2a590row8_col0\" class=\"data row8 col0\" >54.23</td>\n",
       "                        <td id=\"T_8cb333aa_8b33_11ea_9219_24a2e1f2a590row8_col1\" class=\"data row8 col1\" >52.43</td>\n",
       "                        <td id=\"T_8cb333aa_8b33_11ea_9219_24a2e1f2a590row8_col2\" class=\"data row8 col2\" >59.45</td>\n",
       "                        <td id=\"T_8cb333aa_8b33_11ea_9219_24a2e1f2a590row8_col3\" class=\"data row8 col3\" >7.71</td>\n",
       "                        <td id=\"T_8cb333aa_8b33_11ea_9219_24a2e1f2a590row8_col4\" class=\"data row8 col4\" >0.57</td>\n",
       "            </tr>\n",
       "            <tr>\n",
       "                        <th id=\"T_8cb333aa_8b33_11ea_9219_24a2e1f2a590level0_row9\" class=\"row_heading level0 row9\" >Zoniferol</th>\n",
       "                        <td id=\"T_8cb333aa_8b33_11ea_9219_24a2e1f2a590row9_col0\" class=\"data row9 col0\" >53.24</td>\n",
       "                        <td id=\"T_8cb333aa_8b33_11ea_9219_24a2e1f2a590row9_col1\" class=\"data row9 col1\" >51.82</td>\n",
       "                        <td id=\"T_8cb333aa_8b33_11ea_9219_24a2e1f2a590row9_col2\" class=\"data row9 col2\" >48.53</td>\n",
       "                        <td id=\"T_8cb333aa_8b33_11ea_9219_24a2e1f2a590row9_col3\" class=\"data row9 col3\" >6.97</td>\n",
       "                        <td id=\"T_8cb333aa_8b33_11ea_9219_24a2e1f2a590row9_col4\" class=\"data row9 col4\" >0.52</td>\n",
       "            </tr>\n",
       "    </tbody></table>"
      ],
      "text/plain": [
       "<pandas.io.formats.style.Styler at 0x1a180f7c90>"
      ]
     },
     "execution_count": 18,
     "metadata": {},
     "output_type": "execute_result"
    }
   ],
   "source": [
    "# Apply style to the df\n",
    "regimen_df = regimen_df.style.format({\"Mean\":\"{:.2f}\",\n",
    "                                       \"Median\":\"{:.2f}\",\n",
    "                                       \"Variance\":\"{:.2f}\",\n",
    "                                      \"Standard Deviation\":\"{:.2f}\",\n",
    "                                      \"SEM\":\"{:.2f}\"\n",
    "                                       }).highlight_min(color=\"lightgreen\", axis=0).set_properties(\n",
    "    **{'text-align': 'left'})\n",
    "regimen_df"
   ]
  },
  {
   "cell_type": "markdown",
   "metadata": {},
   "source": [
    "## Bar plots"
   ]
  },
  {
   "cell_type": "code",
   "execution_count": 19,
   "metadata": {
    "scrolled": true
   },
   "outputs": [],
   "source": [
    "# Obtain labels of x axis\n",
    "regimen_names = regimen_df.index.tolist()\n",
    "# Define the DF that will be use for plotting grouping \n",
    "#by drug regimen and use count method\n",
    "count_df = combined_df.groupby(\"Drug Regimen\")[\"Mouse ID\"].count()"
   ]
  },
  {
   "cell_type": "code",
   "execution_count": 20,
   "metadata": {},
   "outputs": [
    {
     "data": {
      "image/png": "[encoded data removed]",
      "text/plain": [
       "<Figure size 576x216 with 1 Axes>"
      ]
     },
     "metadata": {
      "needs_background": "light"
     },
     "output_type": "display_data"
    }
   ],
   "source": [
    "# Generate a bar plot showing number of data points for each treatment regimen using pandas\n",
    "bar_plot = count_df.plot(kind=\"bar\",\n",
    "                         figsize=(8,3),\n",
    "                         xlim=(-0.75,len(regimen_names)),\n",
    "                         width=0.8,\n",
    "                         title=\"Data points for each treatment regimen\",\n",
    "                         color=\"royalblue\")\n",
    "bar_plot.set_ylabel(\"Count of data points\")\n",
    "plt.show()"
   ]
  },
  {
   "cell_type": "code",
   "execution_count": 21,
   "metadata": {
    "scrolled": true
   },
   "outputs": [
    {
     "data": {
      "image/png": "[encoded data removed]",
      "text/plain": [
       "<Figure size 576x216 with 1 Axes>"
      ]
     },
     "metadata": {
      "needs_background": "light"
     },
     "output_type": "display_data"
    }
   ],
   "source": [
    "# Generate a bar plot showing number of data points for each treatment regimen using pyplot\n",
    "plt.figure(figsize=(8,3))\n",
    "plt.bar(regimen_names, count_df, color=\"royalblue\")\n",
    "plt.xticks(np.arange(len(regimen_names)), regimen_names, rotation=\"vertical\")\n",
    "plt.xlabel(\"Drug Regimen\")\n",
    "plt.ylabel(\"Count of data points\")\n",
    "plt.xlim(-0.75,len(regimen_names)-0.35)\n",
    "plt.title(\"Data points for each treatment regimen\")\n",
    "plt.show()\n"
   ]
  },
  {
   "cell_type": "markdown",
   "metadata": {},
   "source": [
    "## Pie plots"
   ]
  },
  {
   "cell_type": "code",
   "execution_count": 22,
   "metadata": {},
   "outputs": [],
   "source": [
    "# Dataframe with the count of gender\n",
    "gender_df = combined_df[\"Sex\"].value_counts()"
   ]
  },
  {
   "cell_type": "code",
   "execution_count": 23,
   "metadata": {},
   "outputs": [],
   "source": [
    "# Define parameters for plotting \n",
    "explode = (0.1,0)\n",
    "colors = [\"red\", \"orange\"]\n",
    "labels = [\"Male\", \"Female\"]\n",
    "sizes = [958, 935]"
   ]
  },
  {
   "cell_type": "code",
   "execution_count": 24,
   "metadata": {},
   "outputs": [
    {
     "data": {
      "image/png": "[encoded data removed]",
      "text/plain": [
       "<Figure size 432x288 with 1 Axes>"
      ]
     },
     "metadata": {},
     "output_type": "display_data"
    }
   ],
   "source": [
    "# Generate a pie plot showing the distribution of female versus male mice using pandas\n",
    "gender_df.plot(kind=\"pie\", autopct='%1.1f%%',fontsize=12, shadow=True, explode=explode, colors=colors, startangle=120)\n",
    "plt.axis(\"equal\")\n",
    "plt.title(\"Gender Distribution\")\n",
    "plt.show()"
   ]
  },
  {
   "cell_type": "code",
   "execution_count": 25,
   "metadata": {},
   "outputs": [
    {
     "data": {
      "image/png": "[encoded data removed]",
      "text/plain": [
       "<Figure size 432x288 with 1 Axes>"
      ]
     },
     "metadata": {},
     "output_type": "display_data"
    }
   ],
   "source": [
    "# Generate a pie plot showing the distribution of female versus male mice using pyplot\n",
    "plt.pie(sizes, explode=explode, labels=labels, colors=colors,autopct='%1.1f%%', shadow=True, startangle=120)\n",
    "plt.axis(\"equal\")\n",
    "plt.ylabel(\"Sex\")\n",
    "plt.title(\"Gender Distribution\")\n",
    "plt.show()"
   ]
  },
  {
   "cell_type": "markdown",
   "metadata": {},
   "source": [
    "## Quartiles, outliers and boxplots"
   ]
  },
  {
   "cell_type": "code",
   "execution_count": 26,
   "metadata": {},
   "outputs": [],
   "source": [
    "# Calculate the final tumor volume of each mouse across four of the most promising treatment regimens. \n",
    "#Calculate the IQR and quantitatively determine if there are any potential outliers. "
   ]
  },
  {
   "cell_type": "code",
   "execution_count": 27,
   "metadata": {},
   "outputs": [],
   "source": [
    "# Dataframe with the columns of interest\n",
    "summary_df = combined_df.loc[:,['Mouse ID',\n",
    "                                'Drug Regimen',\n",
    "                                'Timepoint',\n",
    "                                'Tumor Volume (mm3)']]\n",
    "\n",
    "# Dataframe with data whrn timepoint is equal to 45 (final tumor volume)\n",
    "summary_df = summary_df.loc[(summary_df[\"Timepoint\"]==45)]\n",
    "\n",
    "# Group by Drug regimen and Mouse ID, obtain mean and drop the Timepoint column.\n",
    "summary_df = summary_df.groupby([\"Drug Regimen\", \"Mouse ID\"]).mean().drop(columns=\"Timepoint\")"
   ]
  },
  {
   "cell_type": "code",
   "execution_count": 28,
   "metadata": {
    "scrolled": false
   },
   "outputs": [
    {
     "data": {
      "text/html": [
       "<div>\n",
       "<style scoped>\n",
       "    .dataframe tbody tr th:only-of-type {\n",
       "        vertical-align: middle;\n",
       "    }\n",
       "\n",
       "    .dataframe tbody tr th {\n",
       "        vertical-align: top;\n",
       "    }\n",
       "\n",
       "    .dataframe thead tr th {\n",
       "        text-align: left;\n",
       "    }\n",
       "\n",
       "    .dataframe thead tr:last-of-type th {\n",
       "        text-align: right;\n",
       "    }\n",
       "</style>\n",
       "<table border=\"1\" class=\"dataframe\">\n",
       "  <thead>\n",
       "    <tr>\n",
       "      <th></th>\n",
       "      <th colspan=\"4\" halign=\"left\">Tumor Volume (mm3)</th>\n",
       "    </tr>\n",
       "    <tr>\n",
       "      <th>Drug Regimen</th>\n",
       "      <th>Capomulin</th>\n",
       "      <th>Ceftamin</th>\n",
       "      <th>Infubinol</th>\n",
       "      <th>Ramicane</th>\n",
       "    </tr>\n",
       "    <tr>\n",
       "      <th>Mouse ID</th>\n",
       "      <th></th>\n",
       "      <th></th>\n",
       "      <th></th>\n",
       "      <th></th>\n",
       "    </tr>\n",
       "  </thead>\n",
       "  <tbody>\n",
       "    <tr>\n",
       "      <th>b128</th>\n",
       "      <td>38.983</td>\n",
       "      <td>NaN</td>\n",
       "      <td>NaN</td>\n",
       "      <td>NaN</td>\n",
       "    </tr>\n",
       "    <tr>\n",
       "      <th>b742</th>\n",
       "      <td>38.940</td>\n",
       "      <td>NaN</td>\n",
       "      <td>NaN</td>\n",
       "      <td>NaN</td>\n",
       "    </tr>\n",
       "    <tr>\n",
       "      <th>g288</th>\n",
       "      <td>37.074</td>\n",
       "      <td>NaN</td>\n",
       "      <td>NaN</td>\n",
       "      <td>NaN</td>\n",
       "    </tr>\n",
       "    <tr>\n",
       "      <th>g316</th>\n",
       "      <td>40.159</td>\n",
       "      <td>NaN</td>\n",
       "      <td>NaN</td>\n",
       "      <td>NaN</td>\n",
       "    </tr>\n",
       "    <tr>\n",
       "      <th>i557</th>\n",
       "      <td>47.686</td>\n",
       "      <td>NaN</td>\n",
       "      <td>NaN</td>\n",
       "      <td>NaN</td>\n",
       "    </tr>\n",
       "    <tr>\n",
       "      <th>...</th>\n",
       "      <td>...</td>\n",
       "      <td>...</td>\n",
       "      <td>...</td>\n",
       "      <td>...</td>\n",
       "    </tr>\n",
       "    <tr>\n",
       "      <th>q597</th>\n",
       "      <td>NaN</td>\n",
       "      <td>NaN</td>\n",
       "      <td>NaN</td>\n",
       "      <td>45.221</td>\n",
       "    </tr>\n",
       "    <tr>\n",
       "      <th>r811</th>\n",
       "      <td>NaN</td>\n",
       "      <td>NaN</td>\n",
       "      <td>NaN</td>\n",
       "      <td>37.226</td>\n",
       "    </tr>\n",
       "    <tr>\n",
       "      <th>s508</th>\n",
       "      <td>NaN</td>\n",
       "      <td>NaN</td>\n",
       "      <td>NaN</td>\n",
       "      <td>30.276</td>\n",
       "    </tr>\n",
       "    <tr>\n",
       "      <th>u196</th>\n",
       "      <td>NaN</td>\n",
       "      <td>NaN</td>\n",
       "      <td>NaN</td>\n",
       "      <td>40.668</td>\n",
       "    </tr>\n",
       "    <tr>\n",
       "      <th>z578</th>\n",
       "      <td>NaN</td>\n",
       "      <td>NaN</td>\n",
       "      <td>NaN</td>\n",
       "      <td>30.639</td>\n",
       "    </tr>\n",
       "  </tbody>\n",
       "</table>\n",
       "<p>63 rows × 4 columns</p>\n",
       "</div>"
      ],
      "text/plain": [
       "             Tumor Volume (mm3)                            \n",
       "Drug Regimen          Capomulin Ceftamin Infubinol Ramicane\n",
       "Mouse ID                                                   \n",
       "b128                     38.983      NaN       NaN      NaN\n",
       "b742                     38.940      NaN       NaN      NaN\n",
       "g288                     37.074      NaN       NaN      NaN\n",
       "g316                     40.159      NaN       NaN      NaN\n",
       "i557                     47.686      NaN       NaN      NaN\n",
       "...                         ...      ...       ...      ...\n",
       "q597                        NaN      NaN       NaN   45.221\n",
       "r811                        NaN      NaN       NaN   37.226\n",
       "s508                        NaN      NaN       NaN   30.276\n",
       "u196                        NaN      NaN       NaN   40.668\n",
       "z578                        NaN      NaN       NaN   30.639\n",
       "\n",
       "[63 rows x 4 columns]"
      ]
     },
     "execution_count": 28,
     "metadata": {},
     "output_type": "execute_result"
    }
   ],
   "source": [
    "# Dataframe with the regimens of interest\n",
    "promising_treatments = summary_df.loc[[\"Capomulin\", \n",
    "                                       \"Ramicane\", \n",
    "                                       \"Infubinol\", \n",
    "                                       \"Ceftamin\"]].round(3)\n",
    "\n",
    "# Use method unstack to put Drug regimen as columns\n",
    "promising_treatments.unstack(level=0)"
   ]
  },
  {
   "cell_type": "code",
   "execution_count": 29,
   "metadata": {
    "scrolled": true
   },
   "outputs": [],
   "source": [
    "# Define function to obtain lower quartile, upper quartile, interquartile range\n",
    "# and values to identify outliers\n",
    "\n",
    "def Tumor_Data(treatment):\n",
    "    quartiles = promising_treatments[\"Tumor Volume (mm3)\"][treatment].quantile([.25,.5,.75])\n",
    "    lowerq = round(quartiles[0.25],2)\n",
    "    upperq = round(quartiles[0.75],2)\n",
    "    iqr = round((upperq-lowerq),2)\n",
    "    lower_bound = round((lowerq - (1.5*iqr)),2)\n",
    "    upper_bound = round((upperq + (1.5*iqr)),2)\n",
    "    print(f\"The lower quartile of tumor volume of {treatment} treatment is: {lowerq}\")\n",
    "    print(f\"The upper quartile of tumor volume of {treatment} treatment is: {upperq}\")\n",
    "    print(f\"The interquartile range of tumor volume of {treatment} treatment is: {iqr}\")\n",
    "    print(f\"Values below {lower_bound} could be outliers.\")\n",
    "    print(f\"Values above {upper_bound} could be outliers.\")\n",
    "    print(\"-------------------------------------------------------------\")"
   ]
  },
  {
   "cell_type": "code",
   "execution_count": 30,
   "metadata": {},
   "outputs": [
    {
     "name": "stdout",
     "output_type": "stream",
     "text": [
      "The lower quartile of tumor volume of Capomulin treatment is: 32.38\n",
      "The upper quartile of tumor volume of Capomulin treatment is: 40.16\n",
      "The interquartile range of tumor volume of Capomulin treatment is: 7.78\n",
      "Values below 20.71 could be outliers.\n",
      "Values above 51.83 could be outliers.\n",
      "-------------------------------------------------------------\n",
      "The lower quartile of tumor volume of Ramicane treatment is: 30.98\n",
      "The upper quartile of tumor volume of Ramicane treatment is: 38.51\n",
      "The interquartile range of tumor volume of Ramicane treatment is: 7.53\n",
      "Values below 19.69 could be outliers.\n",
      "Values above 49.8 could be outliers.\n",
      "-------------------------------------------------------------\n",
      "The lower quartile of tumor volume of Infubinol treatment is: 62.75\n",
      "The upper quartile of tumor volume of Infubinol treatment is: 67.69\n",
      "The interquartile range of tumor volume of Infubinol treatment is: 4.94\n",
      "Values below 55.34 could be outliers.\n",
      "Values above 75.1 could be outliers.\n",
      "-------------------------------------------------------------\n",
      "The lower quartile of tumor volume of Ceftamin treatment is: 61.43\n",
      "The upper quartile of tumor volume of Ceftamin treatment is: 67.53\n",
      "The interquartile range of tumor volume of Ceftamin treatment is: 6.1\n",
      "Values below 52.28 could be outliers.\n",
      "Values above 76.68 could be outliers.\n",
      "-------------------------------------------------------------\n"
     ]
    }
   ],
   "source": [
    "Tumor_Data(\"Capomulin\")\n",
    "Tumor_Data(\"Ramicane\")\n",
    "Tumor_Data(\"Infubinol\")\n",
    "Tumor_Data(\"Ceftamin\")"
   ]
  },
  {
   "cell_type": "code",
   "execution_count": 31,
   "metadata": {},
   "outputs": [],
   "source": [
    "# Generate a box plot of the final tumor volume of each mouse across four regimens of interest"
   ]
  },
  {
   "cell_type": "code",
   "execution_count": 32,
   "metadata": {},
   "outputs": [],
   "source": [
    "# Define a function to create an array of the final tumor volume data for the four regimens\n",
    "final_array = []\n",
    "def data_volume(med):\n",
    "    for values in promising_treatments[\"Tumor Volume (mm3)\"][med]:\n",
    "        array = promising_treatments[\"Tumor Volume (mm3)\"][med].to_list()\n",
    "    final_array.append(array)"
   ]
  },
  {
   "cell_type": "code",
   "execution_count": 33,
   "metadata": {},
   "outputs": [],
   "source": [
    "# Call function to obtain final array\n",
    "data_volume(\"Capomulin\")\n",
    "data_volume(\"Ramicane\")\n",
    "data_volume(\"Infubinol\")\n",
    "data_volume(\"Ceftamin\")"
   ]
  },
  {
   "cell_type": "code",
   "execution_count": 34,
   "metadata": {},
   "outputs": [
    {
     "data": {
      "image/png": "[encoded data removed]",
      "text/plain": [
       "<Figure size 432x288 with 1 Axes>"
      ]
     },
     "metadata": {
      "needs_background": "light"
     },
     "output_type": "display_data"
    }
   ],
   "source": [
    "# Use the final array of the four regimens to plot them in the same figure\n",
    "fig1, ax1 = plt.subplots()\n",
    "ax1.set_title('Final Tumor Volume of promising treatments')\n",
    "ax1.set_ylabel('Tumor Volume (mm3)')\n",
    "ax1.boxplot(final_array, showfliers=True)\n",
    "ax1.set_xticklabels([\"Capomulin\", \"Ramicane\",\"Infubinol\", \"Ceftamin\"])\n",
    "plt.show()"
   ]
  },
  {
   "cell_type": "markdown",
   "metadata": {},
   "source": [
    "## Line and scatter plots"
   ]
  },
  {
   "cell_type": "code",
   "execution_count": 35,
   "metadata": {},
   "outputs": [],
   "source": [
    "# Generate a line plot of time point versus tumor volume for a mouse treated with Capomulin"
   ]
  },
  {
   "cell_type": "code",
   "execution_count": 36,
   "metadata": {},
   "outputs": [
    {
     "data": {
      "text/html": [
       "<div>\n",
       "<style scoped>\n",
       "    .dataframe tbody tr th:only-of-type {\n",
       "        vertical-align: middle;\n",
       "    }\n",
       "\n",
       "    .dataframe tbody tr th {\n",
       "        vertical-align: top;\n",
       "    }\n",
       "\n",
       "    .dataframe thead th {\n",
       "        text-align: right;\n",
       "    }\n",
       "</style>\n",
       "<table border=\"1\" class=\"dataframe\">\n",
       "  <thead>\n",
       "    <tr style=\"text-align: right;\">\n",
       "      <th></th>\n",
       "      <th>Tumor Volume (mm3)</th>\n",
       "    </tr>\n",
       "    <tr>\n",
       "      <th>Timepoint</th>\n",
       "      <th></th>\n",
       "    </tr>\n",
       "  </thead>\n",
       "  <tbody>\n",
       "    <tr>\n",
       "      <th>0</th>\n",
       "      <td>45.000000</td>\n",
       "    </tr>\n",
       "    <tr>\n",
       "      <th>5</th>\n",
       "      <td>44.266086</td>\n",
       "    </tr>\n",
       "    <tr>\n",
       "      <th>10</th>\n",
       "      <td>43.084291</td>\n",
       "    </tr>\n",
       "    <tr>\n",
       "      <th>15</th>\n",
       "      <td>42.064317</td>\n",
       "    </tr>\n",
       "    <tr>\n",
       "      <th>20</th>\n",
       "      <td>40.716325</td>\n",
       "    </tr>\n",
       "    <tr>\n",
       "      <th>25</th>\n",
       "      <td>39.939528</td>\n",
       "    </tr>\n",
       "    <tr>\n",
       "      <th>30</th>\n",
       "      <td>38.769339</td>\n",
       "    </tr>\n",
       "    <tr>\n",
       "      <th>35</th>\n",
       "      <td>37.816839</td>\n",
       "    </tr>\n",
       "    <tr>\n",
       "      <th>40</th>\n",
       "      <td>36.958001</td>\n",
       "    </tr>\n",
       "    <tr>\n",
       "      <th>45</th>\n",
       "      <td>36.236114</td>\n",
       "    </tr>\n",
       "  </tbody>\n",
       "</table>\n",
       "</div>"
      ],
      "text/plain": [
       "           Tumor Volume (mm3)\n",
       "Timepoint                    \n",
       "0                   45.000000\n",
       "5                   44.266086\n",
       "10                  43.084291\n",
       "15                  42.064317\n",
       "20                  40.716325\n",
       "25                  39.939528\n",
       "30                  38.769339\n",
       "35                  37.816839\n",
       "40                  36.958001\n",
       "45                  36.236114"
      ]
     },
     "execution_count": 36,
     "metadata": {},
     "output_type": "execute_result"
    }
   ],
   "source": [
    "# Define Dataframe with columns of interest\n",
    "summary_df_2 = combined_df.loc[:, [\"Mouse ID\", \"Drug Regimen\", \"Timepoint\", \"Tumor Volume (mm3)\"]]\n",
    "# Define Dataframe with Capomulin regimen\n",
    "summary_df_2 = summary_df_2.loc[summary_df_2[\"Drug Regimen\"]==\"Capomulin\"]\n",
    "# Group by timepoint and obtain dataframe to make graph\n",
    "summary_df_2 = summary_df_2.groupby(\"Timepoint\").mean()\n",
    "summary_df_2"
   ]
  },
  {
   "cell_type": "code",
   "execution_count": 37,
   "metadata": {},
   "outputs": [
    {
     "data": {
      "image/png": "[encoded data removed]",
      "text/plain": [
       "<Figure size 432x288 with 1 Axes>"
      ]
     },
     "metadata": {
      "needs_background": "light"
     },
     "output_type": "display_data"
    }
   ],
   "source": [
    "plt.plot(summary_df_2, color=\"blue\", marker=\"o\")\n",
    "plt.xlim(-1,46)\n",
    "plt.xlabel(\"Timepoint (days)\")\n",
    "plt.ylabel(\"Tumor Volume (mm3)\")\n",
    "plt.title(\"Timepoint vs Tumor Volume with a mouse treated with Capomulin\")\n",
    "#plt.grid()\n",
    "plt.show()"
   ]
  },
  {
   "cell_type": "code",
   "execution_count": 38,
   "metadata": {},
   "outputs": [],
   "source": [
    "# Generate a scatter plot of mouse weight versus average tumor volume for the Capomulin regimen"
   ]
  },
  {
   "cell_type": "code",
   "execution_count": 39,
   "metadata": {
    "scrolled": true
   },
   "outputs": [
    {
     "data": {
      "text/html": [
       "<div>\n",
       "<style scoped>\n",
       "    .dataframe tbody tr th:only-of-type {\n",
       "        vertical-align: middle;\n",
       "    }\n",
       "\n",
       "    .dataframe tbody tr th {\n",
       "        vertical-align: top;\n",
       "    }\n",
       "\n",
       "    .dataframe thead th {\n",
       "        text-align: right;\n",
       "    }\n",
       "</style>\n",
       "<table border=\"1\" class=\"dataframe\">\n",
       "  <thead>\n",
       "    <tr style=\"text-align: right;\">\n",
       "      <th></th>\n",
       "      <th>Weight (g)</th>\n",
       "      <th>Tumor Volume (mm3)</th>\n",
       "    </tr>\n",
       "    <tr>\n",
       "      <th>Mouse ID</th>\n",
       "      <th></th>\n",
       "      <th></th>\n",
       "    </tr>\n",
       "  </thead>\n",
       "  <tbody>\n",
       "    <tr>\n",
       "      <th>b128</th>\n",
       "      <td>22</td>\n",
       "      <td>41.963636</td>\n",
       "    </tr>\n",
       "    <tr>\n",
       "      <th>b742</th>\n",
       "      <td>21</td>\n",
       "      <td>40.083699</td>\n",
       "    </tr>\n",
       "    <tr>\n",
       "      <th>f966</th>\n",
       "      <td>17</td>\n",
       "      <td>36.505973</td>\n",
       "    </tr>\n",
       "    <tr>\n",
       "      <th>g288</th>\n",
       "      <td>19</td>\n",
       "      <td>41.990097</td>\n",
       "    </tr>\n",
       "    <tr>\n",
       "      <th>g316</th>\n",
       "      <td>22</td>\n",
       "      <td>44.613344</td>\n",
       "    </tr>\n",
       "    <tr>\n",
       "      <th>i557</th>\n",
       "      <td>24</td>\n",
       "      <td>44.805810</td>\n",
       "    </tr>\n",
       "    <tr>\n",
       "      <th>i738</th>\n",
       "      <td>20</td>\n",
       "      <td>39.141053</td>\n",
       "    </tr>\n",
       "    <tr>\n",
       "      <th>j119</th>\n",
       "      <td>23</td>\n",
       "      <td>44.465236</td>\n",
       "    </tr>\n",
       "    <tr>\n",
       "      <th>j246</th>\n",
       "      <td>21</td>\n",
       "      <td>43.216925</td>\n",
       "    </tr>\n",
       "    <tr>\n",
       "      <th>l509</th>\n",
       "      <td>21</td>\n",
       "      <td>44.434474</td>\n",
       "    </tr>\n",
       "    <tr>\n",
       "      <th>l897</th>\n",
       "      <td>19</td>\n",
       "      <td>42.507261</td>\n",
       "    </tr>\n",
       "    <tr>\n",
       "      <th>m601</th>\n",
       "      <td>17</td>\n",
       "      <td>34.847470</td>\n",
       "    </tr>\n",
       "    <tr>\n",
       "      <th>m957</th>\n",
       "      <td>19</td>\n",
       "      <td>39.049816</td>\n",
       "    </tr>\n",
       "    <tr>\n",
       "      <th>r157</th>\n",
       "      <td>25</td>\n",
       "      <td>45.798970</td>\n",
       "    </tr>\n",
       "    <tr>\n",
       "      <th>r554</th>\n",
       "      <td>17</td>\n",
       "      <td>36.509212</td>\n",
       "    </tr>\n",
       "    <tr>\n",
       "      <th>r944</th>\n",
       "      <td>25</td>\n",
       "      <td>43.367364</td>\n",
       "    </tr>\n",
       "    <tr>\n",
       "      <th>s185</th>\n",
       "      <td>17</td>\n",
       "      <td>34.559143</td>\n",
       "    </tr>\n",
       "    <tr>\n",
       "      <th>s710</th>\n",
       "      <td>23</td>\n",
       "      <td>42.803733</td>\n",
       "    </tr>\n",
       "    <tr>\n",
       "      <th>t565</th>\n",
       "      <td>17</td>\n",
       "      <td>39.328725</td>\n",
       "    </tr>\n",
       "    <tr>\n",
       "      <th>u364</th>\n",
       "      <td>17</td>\n",
       "      <td>39.887495</td>\n",
       "    </tr>\n",
       "    <tr>\n",
       "      <th>v923</th>\n",
       "      <td>21</td>\n",
       "      <td>41.581595</td>\n",
       "    </tr>\n",
       "    <tr>\n",
       "      <th>w150</th>\n",
       "      <td>23</td>\n",
       "      <td>41.384825</td>\n",
       "    </tr>\n",
       "    <tr>\n",
       "      <th>w914</th>\n",
       "      <td>21</td>\n",
       "      <td>41.352452</td>\n",
       "    </tr>\n",
       "    <tr>\n",
       "      <th>x401</th>\n",
       "      <td>15</td>\n",
       "      <td>36.182040</td>\n",
       "    </tr>\n",
       "    <tr>\n",
       "      <th>y793</th>\n",
       "      <td>17</td>\n",
       "      <td>38.506829</td>\n",
       "    </tr>\n",
       "  </tbody>\n",
       "</table>\n",
       "</div>"
      ],
      "text/plain": [
       "          Weight (g)  Tumor Volume (mm3)\n",
       "Mouse ID                                \n",
       "b128              22           41.963636\n",
       "b742              21           40.083699\n",
       "f966              17           36.505973\n",
       "g288              19           41.990097\n",
       "g316              22           44.613344\n",
       "i557              24           44.805810\n",
       "i738              20           39.141053\n",
       "j119              23           44.465236\n",
       "j246              21           43.216925\n",
       "l509              21           44.434474\n",
       "l897              19           42.507261\n",
       "m601              17           34.847470\n",
       "m957              19           39.049816\n",
       "r157              25           45.798970\n",
       "r554              17           36.509212\n",
       "r944              25           43.367364\n",
       "s185              17           34.559143\n",
       "s710              23           42.803733\n",
       "t565              17           39.328725\n",
       "u364              17           39.887495\n",
       "v923              21           41.581595\n",
       "w150              23           41.384825\n",
       "w914              21           41.352452\n",
       "x401              15           36.182040\n",
       "y793              17           38.506829"
      ]
     },
     "execution_count": 39,
     "metadata": {},
     "output_type": "execute_result"
    }
   ],
   "source": [
    "# Define Dataframe with columns of interest\n",
    "summary_df_3 = combined_df.loc[:,[ 'Mouse ID', 'Drug Regimen','Weight (g)',\n",
    "       'Tumor Volume (mm3)']]\n",
    "# Define Dataframe with Capomulin regimen\n",
    "summary_df_3 = summary_df_3.loc[summary_df_3[\"Drug Regimen\"]==\"Capomulin\"]\n",
    "# Group by mouse ID and obtain dataframe to make graph\n",
    "summary_df_3 = summary_df_3.groupby(\"Mouse ID\").mean()\n",
    "summary_df_3"
   ]
  },
  {
   "cell_type": "code",
   "execution_count": 43,
   "metadata": {},
   "outputs": [
    {
     "name": "stdout",
     "output_type": "stream",
     "text": [
      "The correlation between both factors is: 0.84\n"
     ]
    },
    {
     "data": {
      "image/png": "[encoded data removed]",
      "text/plain": [
       "<Figure size 432x288 with 1 Axes>"
      ]
     },
     "metadata": {
      "needs_background": "light"
     },
     "output_type": "display_data"
    }
   ],
   "source": [
    "x_values = summary_df_3[\"Weight (g)\"]\n",
    "y_values = summary_df_3[\"Tumor Volume (mm3)\"]\n",
    "\n",
    "plt.scatter(x_values, y_values)\n",
    "plt.xlabel(\"Weigth (g)\")\n",
    "plt.ylabel(\"Tumor Volume (mm3)\")\n",
    "#plt.xlim(0,27)\n",
    "plt.title(\"Weight vs Average Tumor Volume\")\n",
    "correlation = st.pearsonr(x_values, y_values)\n",
    "print(f\"The correlation between both factors is: {round(correlation[0],2)}\")\n",
    "plt.show()"
   ]
  },
  {
   "cell_type": "code",
   "execution_count": 41,
   "metadata": {},
   "outputs": [],
   "source": [
    "# Calculate the correlation coefficient and linear regression model for mouse weight and average tumor volume for the Capomulin regimen"
   ]
  },
  {
   "cell_type": "code",
   "execution_count": 42,
   "metadata": {},
   "outputs": [
    {
     "name": "stdout",
     "output_type": "stream",
     "text": [
      "The correlation between both factors is: 0.84\n",
      "The r-squared value is: 0.71\n"
     ]
    },
    {
     "data": {
      "image/png": "[encoded data removed]",
      "text/plain": [
       "<Figure size 432x288 with 1 Axes>"
      ]
     },
     "metadata": {
      "needs_background": "light"
     },
     "output_type": "display_data"
    }
   ],
   "source": [
    "x_values = summary_df_3[\"Weight (g)\"]\n",
    "y_values = summary_df_3[\"Tumor Volume (mm3)\"]\n",
    "(slope, intercept, rvalue, pvalue, stderr) = st.linregress(x_values, y_values)\n",
    "regress_values = x_values * slope + intercept\n",
    "equation = \"y= \" + str(round(slope,2)) + \"x + \" + str(round(intercept,2))\n",
    "plt.scatter(x_values, y_values)\n",
    "plt.plot(x_values, regress_values, \"r--\")\n",
    "plt.text(16,44,equation,color=\"red\", fontsize=15)\n",
    "plt.xlabel(\"Weigth (g)\")\n",
    "plt.ylabel(\"Tumor volume (mm3)\")\n",
    "plt.title(\"Weight vs Average Tumor Volume\")\n",
    "rsquared = rvalue**2\n",
    "print(f\"The correlation between both factors is: {round(rvalue,2)}\")\n",
    "print(f\"The r-squared value is: {round(rsquared,2)}\")\n",
    "plt.show()"
   ]
  }
 ],
 "metadata": {
  "anaconda-cloud": {},
  "kernelspec": {
   "display_name": "Python 3",
   "language": "python",
   "name": "python3"
  },
  "language_info": {
   "codemirror_mode": {
    "name": "ipython",
    "version": 3
   },
   "file_extension": ".py",
   "mimetype": "text/x-python",
   "name": "python",
   "nbconvert_exporter": "python",
   "pygments_lexer": "ipython3",
   "version": "3.7.6"
  }
 },
 "nbformat": 4,
 "nbformat_minor": 2
}
